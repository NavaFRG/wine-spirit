{
 "cells": [
  {
   "cell_type": "markdown",
   "id": "864f638d",
   "metadata": {},
   "source": [
    "## DEADLINE:\n",
    "Vous êtes Développeur IA indépendant chez un marchand de vins de renom qui dispose d’un site internet pour ses ventes. \n",
    "Votre rôle est d’accompagner votre client dans sa transformation digitale.\n",
    "\n",
    "Dans un premier temps j'importe mes bibliothèques:"
   ]
  },
  {
   "cell_type": "code",
   "execution_count": 22,
   "id": "11b03e15",
   "metadata": {},
   "outputs": [],
   "source": [
    "import pandas as pd\n",
    "import numpy as np\n",
    "import matplotlib.pyplot as plt\n",
    "import seaborn as sns\n",
    "import matplotlib.patches as mpatches\n",
    "import sklearn.metrics as sm\n",
    "\n",
    "from pandas_profiling import ProfileReport\n",
    "from sklearn.datasets import make_blobs\n",
    "from sklearn.cluster import KMeans\n",
    "from sklearn.preprocessing import MinMaxScaler\n",
    "from sklearn import datasets\n"
   ]
  },
  {
   "cell_type": "markdown",
   "id": "1d9f34c1",
   "metadata": {},
   "source": [
    "### Création des DataFrames"
   ]
  },
  {
   "cell_type": "code",
   "execution_count": 2,
   "id": "868f0842",
   "metadata": {},
   "outputs": [
    {
     "name": "stderr",
     "output_type": "stream",
     "text": [
      "C:\\Users\\admin\\anaconda3\\lib\\site-packages\\openpyxl\\worksheet\\_reader.py:312: UserWarning: Unknown extension is not supported and will be removed\n",
      "  warn(msg)\n"
     ]
    },
    {
     "name": "stdout",
     "output_type": "stream",
     "text": [
      "     product_id  onsale_web  price  stock_quantity stock_status\n",
      "0          3847           1   24.2               0   outofstock\n",
      "1          3849           1   34.3               0   outofstock\n",
      "2          3850           1   20.8               0   outofstock\n",
      "3          4032           1   14.1               0   outofstock\n",
      "4          4039           1   46.0               0   outofstock\n",
      "..          ...         ...    ...             ...          ...\n",
      "820        7203           0   45.0              30      instock\n",
      "821        7204           0   45.0               9      instock\n",
      "822        7247           1   54.8              23      instock\n",
      "823        7329           0   26.5              14      instock\n",
      "824        7338           1   16.3              45      instock\n",
      "\n",
      "[825 rows x 5 columns]\n",
      "     product_id   id_web\n",
      "0          3847    15298\n",
      "1          3849    15296\n",
      "2          3850    15300\n",
      "3          4032    19814\n",
      "4          4039    19815\n",
      "..          ...      ...\n",
      "820        7203      NaN\n",
      "821        7204      NaN\n",
      "822        7247  13127-1\n",
      "823        7329  14680-1\n",
      "824        7338    16230\n",
      "\n",
      "[825 rows x 2 columns]\n",
      "                   id_web  virtual  downloadable  rating_count  \\\n",
      "0     bon-cadeau-25-euros        0             0             0   \n",
      "1                   15298        0             0             0   \n",
      "2                   15296        0             0             0   \n",
      "3                   15300        0             0             0   \n",
      "4                   19814        0             0             0   \n",
      "...                   ...      ...           ...           ...   \n",
      "1508                16135        0             0             0   \n",
      "1509                15891        0             0             0   \n",
      "1510                15887        0             0             0   \n",
      "1511              13127-1        0             0             0   \n",
      "1512                16230        0             0             0   \n",
      "\n",
      "      average_rating  total_sales tax_status  tax_class  post_author  \\\n",
      "0                0.0         10.0    taxable        NaN          1.0   \n",
      "1                0.0          6.0    taxable        NaN          2.0   \n",
      "2                0.0          0.0    taxable        NaN          2.0   \n",
      "3                0.0          0.0    taxable        NaN          2.0   \n",
      "4                0.0          3.0    taxable        NaN          2.0   \n",
      "...              ...          ...        ...        ...          ...   \n",
      "1508             0.0          5.0        NaN        NaN          2.0   \n",
      "1509             0.0          0.0        NaN        NaN          2.0   \n",
      "1510             0.0          0.0        NaN        NaN          2.0   \n",
      "1511             0.0          0.0        NaN        NaN          2.0   \n",
      "1512             0.0          0.0        NaN        NaN          2.0   \n",
      "\n",
      "               post_date  ...  \\\n",
      "0    2018-06-01 13:53:46  ...   \n",
      "1    2018-02-08 12:58:52  ...   \n",
      "2    2018-02-08 13:49:41  ...   \n",
      "3    2018-02-08 14:08:36  ...   \n",
      "4    2018-02-09 14:01:05  ...   \n",
      "...                  ...  ...   \n",
      "1508 2020-04-25 13:22:38  ...   \n",
      "1509 2020-05-02 14:53:40  ...   \n",
      "1510 2020-05-02 15:00:54  ...   \n",
      "1511 2020-06-09 15:42:04  ...   \n",
      "1512 2020-07-20 11:00:00  ...   \n",
      "\n",
      "                                              post_name       post_modified  \\\n",
      "0                                bon-cadeau-de-25-euros 2018-06-01 14:13:57   \n",
      "1           pierre-jean-villa-saint-joseph-preface-2018 2019-12-30 09:30:29   \n",
      "2             pierre-jean-villa-saint-joseph-tilde-2017 2019-12-21 09:00:17   \n",
      "3     pierre-jean-villa-croze-hermitage-accroche-coe... 2020-06-26 18:15:03   \n",
      "4                     pierre-jean-villa-igp-gamine-2018 2020-01-04 16:36:01   \n",
      "...                                                 ...                 ...   \n",
      "1508                    mouthes-le-bihan-aime-chai-2015 2020-08-26 17:35:03   \n",
      "1509         camin-larredya-jurancon-sec-la-virada-2018 2020-08-26 17:35:02   \n",
      "1510             jamet-cote-rotie-fructus-voluptas-2018 2020-08-14 18:15:03   \n",
      "1511     clos-du-mont-olivet-chateauneuf-du-pape-2007-2 2020-07-20 17:09:06   \n",
      "1512  domaine-saint-nicolas-fiefs-vendeens-blanc-les... 2020-08-13 10:45:03   \n",
      "\n",
      "       post_modified_gmt post_content_filtered post_parent  \\\n",
      "0    2018-06-01 12:13:57                   NaN         0.0   \n",
      "1    2019-12-30 08:30:29                   NaN         0.0   \n",
      "2    2019-12-21 08:00:17                   NaN         0.0   \n",
      "3    2020-06-26 16:15:03                   NaN         0.0   \n",
      "4    2020-01-04 15:36:01                   NaN         0.0   \n",
      "...                  ...                   ...         ...   \n",
      "1508 2020-08-26 15:35:03                   NaN         0.0   \n",
      "1509 2020-08-26 15:35:02                   NaN         0.0   \n",
      "1510 2020-08-14 16:15:03                   NaN         0.0   \n",
      "1511 2020-07-20 15:09:06                   NaN         0.0   \n",
      "1512 2020-08-13 08:45:03                   NaN         0.0   \n",
      "\n",
      "                                                   guid menu_order  \\\n",
      "0     https://www.wine-spirit.fr/?post_type=product&...        0.0   \n",
      "1     https://www.wine-spirit.fr/?post_type=product&...        0.0   \n",
      "2     https://www.wine-spirit.fr/?post_type=product&...        0.0   \n",
      "3     https://www.wine-spirit.fr/?post_type=product&...        0.0   \n",
      "4     https://www.wine-spirit.fr/?post_type=product&...        0.0   \n",
      "...                                                 ...        ...   \n",
      "1508  https://www.wine-spirit.fr/wp-content/uploads/...        0.0   \n",
      "1509  https://www.wine-spirit.fr/wp-content/uploads/...        0.0   \n",
      "1510  https://www.wine-spirit.fr/wp-content/uploads/...        0.0   \n",
      "1511  https://www.wine-spirit.fr/wp-content/uploads/...        0.0   \n",
      "1512  https://www.wine-spirit.fr/wp-content/uploads/...        0.0   \n",
      "\n",
      "       post_type post_mime_type comment_count  \n",
      "0        product            NaN           0.0  \n",
      "1        product            NaN           0.0  \n",
      "2        product            NaN           0.0  \n",
      "3        product            NaN           0.0  \n",
      "4        product            NaN           0.0  \n",
      "...          ...            ...           ...  \n",
      "1508  attachment     image/jpeg           0.0  \n",
      "1509  attachment     image/jpeg           0.0  \n",
      "1510  attachment     image/jpeg           0.0  \n",
      "1511  attachment     image/jpeg           0.0  \n",
      "1512  attachment     image/jpeg           0.0  \n",
      "\n",
      "[1431 rows x 28 columns]\n"
     ]
    }
   ],
   "source": [
    "df_erp = pd.read_excel('erp.xlsx')\n",
    "df_liaison = pd.read_excel('liaison.xlsx')\n",
    "df_web = pd.read_excel('web.xlsx')\n",
    "df_web = df_web.drop_duplicates()\n",
    "df_web.rename(columns={'sku': 'id_web'}, inplace=True)\n",
    "print(df_erp)\n",
    "print(df_liaison)\n",
    "print(df_web)\n"
   ]
  },
  {
   "cell_type": "markdown",
   "id": "c8bd0383",
   "metadata": {},
   "source": [
    "### Je fais la Jointure des tables "
   ]
  },
  {
   "cell_type": "code",
   "execution_count": 3,
   "id": "3e831be3",
   "metadata": {
    "scrolled": true
   },
   "outputs": [
    {
     "name": "stdout",
     "output_type": "stream",
     "text": [
      "     product_id  onsale_web  price  stock_quantity stock_status   id_web\n",
      "0          3847           1   24.2               0   outofstock    15298\n",
      "1          3849           1   34.3               0   outofstock    15296\n",
      "2          3850           1   20.8               0   outofstock    15300\n",
      "3          4032           1   14.1               0   outofstock    19814\n",
      "4          4039           1   46.0               0   outofstock    19815\n",
      "..          ...         ...    ...             ...          ...      ...\n",
      "820        7203           0   45.0              30      instock      NaN\n",
      "821        7204           0   45.0               9      instock      NaN\n",
      "822        7247           1   54.8              23      instock  13127-1\n",
      "823        7329           0   26.5              14      instock  14680-1\n",
      "824        7338           1   16.3              45      instock    16230\n",
      "\n",
      "[825 rows x 6 columns]\n",
      "      product_id  onsale_web  price  stock_quantity stock_status   id_web  \\\n",
      "0           3847           1   24.2               0   outofstock    15298   \n",
      "1           3847           1   24.2               0   outofstock    15298   \n",
      "2           3849           1   34.3               0   outofstock    15296   \n",
      "3           3849           1   34.3               0   outofstock    15296   \n",
      "4           3850           1   20.8               0   outofstock    15300   \n",
      "...          ...         ...    ...             ...          ...      ...   \n",
      "1696        7025           1   69.0               2      instock    15887   \n",
      "1697        7247           1   54.8              23      instock  13127-1   \n",
      "1698        7247           1   54.8              23      instock  13127-1   \n",
      "1699        7338           1   16.3              45      instock    16230   \n",
      "1700        7338           1   16.3              45      instock    16230   \n",
      "\n",
      "      virtual  downloadable  rating_count  average_rating  ...  \\\n",
      "0           0             0             0             0.0  ...   \n",
      "1           0             0             0             0.0  ...   \n",
      "2           0             0             0             0.0  ...   \n",
      "3           0             0             0             0.0  ...   \n",
      "4           0             0             0             0.0  ...   \n",
      "...       ...           ...           ...             ...  ...   \n",
      "1696        0             0             0             0.0  ...   \n",
      "1697        0             0             0             0.0  ...   \n",
      "1698        0             0             0             0.0  ...   \n",
      "1699        0             0             0             0.0  ...   \n",
      "1700        0             0             0             0.0  ...   \n",
      "\n",
      "                                              post_name       post_modified  \\\n",
      "0           pierre-jean-villa-saint-joseph-preface-2018 2019-12-30 09:30:29   \n",
      "1           pierre-jean-villa-saint-joseph-preface-2018 2019-12-30 09:30:29   \n",
      "2             pierre-jean-villa-saint-joseph-tilde-2017 2019-12-21 09:00:17   \n",
      "3             pierre-jean-villa-saint-joseph-tilde-2017 2019-12-21 09:00:17   \n",
      "4     pierre-jean-villa-croze-hermitage-accroche-coe... 2020-06-26 18:15:03   \n",
      "...                                                 ...                 ...   \n",
      "1696             jamet-cote-rotie-fructus-voluptas-2018 2020-08-14 18:15:03   \n",
      "1697     clos-du-mont-olivet-chateauneuf-du-pape-2007-2 2020-07-20 17:09:06   \n",
      "1698     clos-du-mont-olivet-chateauneuf-du-pape-2007-2 2020-07-20 17:09:06   \n",
      "1699  domaine-saint-nicolas-fiefs-vendeens-blanc-les... 2020-08-13 10:45:03   \n",
      "1700  domaine-saint-nicolas-fiefs-vendeens-blanc-les... 2020-08-13 10:45:03   \n",
      "\n",
      "       post_modified_gmt  post_content_filtered post_parent  \\\n",
      "0    2019-12-30 08:30:29                    NaN         0.0   \n",
      "1    2019-12-30 08:30:29                    NaN         0.0   \n",
      "2    2019-12-21 08:00:17                    NaN         0.0   \n",
      "3    2019-12-21 08:00:17                    NaN         0.0   \n",
      "4    2020-06-26 16:15:03                    NaN         0.0   \n",
      "...                  ...                    ...         ...   \n",
      "1696 2020-08-14 16:15:03                    NaN         0.0   \n",
      "1697 2020-07-20 15:09:06                    NaN         0.0   \n",
      "1698 2020-07-20 15:09:06                    NaN         0.0   \n",
      "1699 2020-08-13 08:45:03                    NaN         0.0   \n",
      "1700 2020-08-13 08:45:03                    NaN         0.0   \n",
      "\n",
      "                                                   guid  menu_order  \\\n",
      "0     https://www.wine-spirit.fr/?post_type=product&...         0.0   \n",
      "1     https://www.wine-spirit.fr/wp-content/uploads/...         0.0   \n",
      "2     https://www.wine-spirit.fr/?post_type=product&...         0.0   \n",
      "3     https://www.wine-spirit.fr/wp-content/uploads/...         0.0   \n",
      "4     https://www.wine-spirit.fr/?post_type=product&...         0.0   \n",
      "...                                                 ...         ...   \n",
      "1696  https://www.wine-spirit.fr/wp-content/uploads/...         0.0   \n",
      "1697  https://www.wine-spirit.fr/?post_type=product&...         0.0   \n",
      "1698  https://www.wine-spirit.fr/wp-content/uploads/...         0.0   \n",
      "1699  https://www.wine-spirit.fr/?post_type=product&...         0.0   \n",
      "1700  https://www.wine-spirit.fr/wp-content/uploads/...         0.0   \n",
      "\n",
      "       post_type post_mime_type comment_count  \n",
      "0        product            NaN           0.0  \n",
      "1     attachment     image/jpeg           0.0  \n",
      "2        product            NaN           0.0  \n",
      "3     attachment     image/jpeg           0.0  \n",
      "4        product            NaN           0.0  \n",
      "...          ...            ...           ...  \n",
      "1696  attachment     image/jpeg           0.0  \n",
      "1697     product            NaN           0.0  \n",
      "1698  attachment     image/jpeg           0.0  \n",
      "1699     product            NaN           0.0  \n",
      "1700  attachment     image/jpeg           0.0  \n",
      "\n",
      "[1701 rows x 33 columns]\n"
     ]
    }
   ],
   "source": [
    "df_merge = df_erp.merge(df_liaison)\n",
    "print(df_merge)\n",
    "df_merge = df_merge.merge(df_web)\n",
    "print(df_merge)"
   ]
  },
  {
   "cell_type": "markdown",
   "id": "ae2cb20a",
   "metadata": {},
   "source": [
    "### Supression des colonnes comportant des valeurs null après analyse"
   ]
  },
  {
   "cell_type": "code",
   "execution_count": 4,
   "id": "a006dde9",
   "metadata": {
    "scrolled": false
   },
   "outputs": [
    {
     "name": "stdout",
     "output_type": "stream",
     "text": [
      "      product_id  onsale_web  price  stock_quantity stock_status   id_web  \\\n",
      "0           3847           1   24.2               0   outofstock    15298   \n",
      "2           3849           1   34.3               0   outofstock    15296   \n",
      "4           3850           1   20.8               0   outofstock    15300   \n",
      "6           4032           1   14.1               0   outofstock    19814   \n",
      "8           4039           1   46.0               0   outofstock    19815   \n",
      "...          ...         ...    ...             ...          ...      ...   \n",
      "1691        6930           1    8.4              83      instock    16135   \n",
      "1693        7023           1   27.5              15      instock    15891   \n",
      "1695        7025           1   69.0               2      instock    15887   \n",
      "1697        7247           1   54.8              23      instock  13127-1   \n",
      "1699        7338           1   16.3              45      instock    16230   \n",
      "\n",
      "      virtual  downloadable  rating_count  average_rating  ...  \\\n",
      "0           0             0             0             0.0  ...   \n",
      "2           0             0             0             0.0  ...   \n",
      "4           0             0             0             0.0  ...   \n",
      "6           0             0             0             0.0  ...   \n",
      "8           0             0             0             0.0  ...   \n",
      "...       ...           ...           ...             ...  ...   \n",
      "1691        0             0             0             0.0  ...   \n",
      "1693        0             0             0             0.0  ...   \n",
      "1695        0             0             0             0.0  ...   \n",
      "1697        0             0             0             0.0  ...   \n",
      "1699        0             0             0             0.0  ...   \n",
      "\n",
      "      comment_status ping_status  \\\n",
      "0             closed      closed   \n",
      "2             closed      closed   \n",
      "4             closed      closed   \n",
      "6             closed      closed   \n",
      "8             closed      closed   \n",
      "...              ...         ...   \n",
      "1691          closed      closed   \n",
      "1693          closed      closed   \n",
      "1695          closed      closed   \n",
      "1697          closed      closed   \n",
      "1699          closed      closed   \n",
      "\n",
      "                                              post_name       post_modified  \\\n",
      "0           pierre-jean-villa-saint-joseph-preface-2018 2019-12-30 09:30:29   \n",
      "2             pierre-jean-villa-saint-joseph-tilde-2017 2019-12-21 09:00:17   \n",
      "4     pierre-jean-villa-croze-hermitage-accroche-coe... 2020-06-26 18:15:03   \n",
      "6                     pierre-jean-villa-igp-gamine-2018 2020-01-04 16:36:01   \n",
      "8             pierre-jean-villa-cote-rotie-carmina-2017 2020-01-04 16:36:10   \n",
      "...                                                 ...                 ...   \n",
      "1691                    mouthes-le-bihan-aime-chai-2015 2020-08-26 17:35:03   \n",
      "1693         camin-larredya-jurancon-sec-la-virada-2018 2020-08-26 17:35:02   \n",
      "1695             jamet-cote-rotie-fructus-voluptas-2018 2020-08-14 18:15:03   \n",
      "1697     clos-du-mont-olivet-chateauneuf-du-pape-2007-2 2020-07-20 17:09:06   \n",
      "1699  domaine-saint-nicolas-fiefs-vendeens-blanc-les... 2020-08-13 10:45:03   \n",
      "\n",
      "       post_modified_gmt post_parent  \\\n",
      "0    2019-12-30 08:30:29         0.0   \n",
      "2    2019-12-21 08:00:17         0.0   \n",
      "4    2020-06-26 16:15:03         0.0   \n",
      "6    2020-01-04 15:36:01         0.0   \n",
      "8    2020-01-04 15:36:10         0.0   \n",
      "...                  ...         ...   \n",
      "1691 2020-08-26 15:35:03         0.0   \n",
      "1693 2020-08-26 15:35:02         0.0   \n",
      "1695 2020-08-14 16:15:03         0.0   \n",
      "1697 2020-07-20 15:09:06         0.0   \n",
      "1699 2020-08-13 08:45:03         0.0   \n",
      "\n",
      "                                                   guid menu_order post_type  \\\n",
      "0     https://www.wine-spirit.fr/?post_type=product&...        0.0   product   \n",
      "2     https://www.wine-spirit.fr/?post_type=product&...        0.0   product   \n",
      "4     https://www.wine-spirit.fr/?post_type=product&...        0.0   product   \n",
      "6     https://www.wine-spirit.fr/?post_type=product&...        0.0   product   \n",
      "8     https://www.wine-spirit.fr/?post_type=product&...        0.0   product   \n",
      "...                                                 ...        ...       ...   \n",
      "1691  https://www.wine-spirit.fr/?post_type=product&...        0.0   product   \n",
      "1693  https://www.wine-spirit.fr/?post_type=product&...        0.0   product   \n",
      "1695  https://www.wine-spirit.fr/?post_type=product&...        0.0   product   \n",
      "1697  https://www.wine-spirit.fr/?post_type=product&...        0.0   product   \n",
      "1699  https://www.wine-spirit.fr/?post_type=product&...        0.0   product   \n",
      "\n",
      "     comment_count  \n",
      "0              0.0  \n",
      "2              0.0  \n",
      "4              0.0  \n",
      "6              0.0  \n",
      "8              0.0  \n",
      "...            ...  \n",
      "1691           0.0  \n",
      "1693           0.0  \n",
      "1695           0.0  \n",
      "1697           0.0  \n",
      "1699           0.0  \n",
      "\n",
      "[714 rows x 28 columns]\n"
     ]
    }
   ],
   "source": [
    "df_drop = df_merge.drop(columns=['tax_class',\n",
    "                                 'post_content',\n",
    "                                 'post_password',\n",
    "                                 'post_content_filtered',\n",
    "                                 'post_mime_type',])\n",
    "df_drop = df_drop.dropna()\n",
    "print(df_drop)"
   ]
  },
  {
   "cell_type": "markdown",
   "id": "299c6476",
   "metadata": {},
   "source": [
    "### Création d'un report des tables"
   ]
  },
  {
   "cell_type": "code",
   "execution_count": 5,
   "id": "d8d7b282",
   "metadata": {},
   "outputs": [
    {
     "data": {
      "application/vnd.jupyter.widget-view+json": {
       "model_id": "f4c28c070b0c48c584dbd0157be3abff",
       "version_major": 2,
       "version_minor": 0
      },
      "text/plain": [
       "Summarize dataset:   0%|          | 0/42 [00:00<?, ?it/s]"
      ]
     },
     "metadata": {},
     "output_type": "display_data"
    },
    {
     "data": {
      "application/vnd.jupyter.widget-view+json": {
       "model_id": "41c61cdfb3884b06a7eefcef25de1335",
       "version_major": 2,
       "version_minor": 0
      },
      "text/plain": [
       "Generate report structure:   0%|          | 0/1 [00:00<?, ?it/s]"
      ]
     },
     "metadata": {},
     "output_type": "display_data"
    },
    {
     "data": {
      "application/vnd.jupyter.widget-view+json": {
       "model_id": "ad7ccd46c2454adf8c1fec4fd273d0c1",
       "version_major": 2,
       "version_minor": 0
      },
      "text/plain": [
       "Render HTML:   0%|          | 0/1 [00:00<?, ?it/s]"
      ]
     },
     "metadata": {},
     "output_type": "display_data"
    },
    {
     "data": {
      "application/vnd.jupyter.widget-view+json": {
       "model_id": "3728f90b33b842028c204f6a43224582",
       "version_major": 2,
       "version_minor": 0
      },
      "text/plain": [
       "Export report to file:   0%|          | 0/1 [00:00<?, ?it/s]"
      ]
     },
     "metadata": {},
     "output_type": "display_data"
    }
   ],
   "source": [
    "profile = ProfileReport(df_drop, title=\"Wine Sprit Report\", explorative=True)\n",
    "profile.to_file(\"winespiritreport.html\")\n"
   ]
  },
  {
   "cell_type": "markdown",
   "id": "149110b6",
   "metadata": {},
   "source": [
    "### Calcule du Chiffre d'affaire\n",
    "Je créer un DataFrame où je fait le prix fois le total des ventes.\n",
    "J'insert dans ma table une colonne où j'y insert mon DataFrame créé\n",
    "Ensuite je créer une liste où j'y insert la somme de la colonne que j'ai créer (chiffre_affaire)"
   ]
  },
  {
   "cell_type": "code",
   "execution_count": 6,
   "id": "248e8b97",
   "metadata": {},
   "outputs": [
    {
     "name": "stdout",
     "output_type": "stream",
     "text": [
      "0       145.2\n",
      "2         0.0\n",
      "4         0.0\n",
      "6        42.3\n",
      "8         0.0\n",
      "        ...  \n",
      "1691     42.0\n",
      "1693      0.0\n",
      "1695      0.0\n",
      "1697      0.0\n",
      "1699      0.0\n",
      "Name: chiffre_affaire, Length: 714, dtype: float64\n",
      "le chiffre d'affaire total est : 70568.6€\n"
     ]
    }
   ],
   "source": [
    "df_affaire = df_drop[\"price\"] * df_drop[\"total_sales\"]\n",
    "df_drop[\"chiffre_affaire\"] = df_affaire\n",
    "print(df_drop['chiffre_affaire'])\n",
    "chiffre = sum(df_drop['chiffre_affaire'])\n",
    "print(\"le chiffre d'affaire total est : \" + str(chiffre) + \"€\")"
   ]
  },
  {
   "cell_type": "markdown",
   "id": "bc545657",
   "metadata": {},
   "source": [
    "### Méthodes du z score"
   ]
  },
  {
   "cell_type": "code",
   "execution_count": 7,
   "id": "8a5aa8b8",
   "metadata": {},
   "outputs": [
    {
     "name": "stdout",
     "output_type": "stream",
     "text": [
      "399     100.0\n",
      "403      88.4\n",
      "671     225.0\n",
      "675     126.5\n",
      "709     176.0\n",
      "711     108.5\n",
      "715     157.0\n",
      "717     104.0\n",
      "727     109.6\n",
      "1033    102.3\n",
      "1035    137.0\n",
      "1125    217.5\n",
      "1135    105.0\n",
      "1137    105.0\n",
      "1147    112.0\n",
      "1277     92.0\n",
      "1295    124.8\n",
      "1379    175.0\n",
      "1447    191.3\n",
      "1477     93.0\n",
      "1479    122.0\n",
      "1481    114.0\n",
      "1557    135.0\n",
      "1567    105.6\n",
      "1569    116.4\n",
      "1579    115.0\n",
      "1581    121.0\n",
      "1583     99.0\n",
      "1585    115.0\n",
      "1587    121.0\n",
      "Name: price, dtype: float64\n",
      "30\n"
     ]
    }
   ],
   "source": [
    "df_drop['zscore'] = (df_drop['price'] - df_drop['price'].mean())/df_drop['price'].std(ddof=0)\n",
    "print(df_drop['price'] [df_drop['zscore'] > 2])\n",
    "print(len(df_drop['price'] [df_drop['zscore'] > 2]))"
   ]
  },
  {
   "cell_type": "markdown",
   "id": "2dcbb889",
   "metadata": {},
   "source": [
    "### Création d'un boxplot avec seaborn sur la colonne price"
   ]
  },
  {
   "cell_type": "code",
   "execution_count": 8,
   "id": "d0400abe",
   "metadata": {
    "scrolled": true
   },
   "outputs": [
    {
     "data": {
      "image/png": "[encoded data removed]",
      "text/plain": [
       "<Figure size 432x288 with 1 Axes>"
      ]
     },
     "metadata": {},
     "output_type": "display_data"
    }
   ],
   "source": [
    "sns.set_theme(style=\"whitegrid\")\n",
    "ax = sns.boxplot(y=df_drop[\"price\"])"
   ]
  },
  {
   "cell_type": "markdown",
   "id": "2496011d",
   "metadata": {},
   "source": [
    "### Création nuage de points avec les outliers d'une couleur différente"
   ]
  },
  {
   "cell_type": "code",
   "execution_count": 30,
   "id": "a7fbfd47",
   "metadata": {},
   "outputs": [
    {
     "name": "stderr",
     "output_type": "stream",
     "text": [
      "C:\\Users\\admin\\anaconda3\\lib\\site-packages\\seaborn\\_decorators.py:36: FutureWarning: Pass the following variables as keyword args: x, y. From version 0.12, the only valid positional argument will be `data`, and passing other arguments without an explicit keyword will result in an error or misinterpretation.\n",
      "  warnings.warn(\n"
     ]
    },
    {
     "data": {
      "text/plain": [
       "<AxesSubplot:xlabel='price', ylabel='chiffre_affaire'>"
      ]
     },
     "execution_count": 30,
     "metadata": {},
     "output_type": "execute_result"
    },
    {
     "data": {
      "image/png": "[encoded data removed]",
      "text/plain": [
       "<Figure size 432x288 with 1 Axes>"
      ]
     },
     "metadata": {},
     "output_type": "display_data"
    }
   ],
   "source": [
    "y = df_drop['chiffre_affaire']\n",
    "x = df_drop['price'] \n",
    "sns.scatterplot(x, y, hue=df_drop['zscore'] > 2)"
   ]
  },
  {
   "cell_type": "markdown",
   "id": "5c889ffc",
   "metadata": {},
   "source": [
    "### Méthodes interquartiles\n",
    "J'obtiens 32 outliers qui sont cohérents "
   ]
  },
  {
   "cell_type": "code",
   "execution_count": 10,
   "id": "41842cd2",
   "metadata": {},
   "outputs": [
    {
     "name": "stdout",
     "output_type": "stream",
     "text": [
      "399     100.0\n",
      "403      88.4\n",
      "671     225.0\n",
      "675     126.5\n",
      "683      85.6\n",
      "709     176.0\n",
      "711     108.5\n",
      "715     157.0\n",
      "717     104.0\n",
      "727     109.6\n",
      "1033    102.3\n",
      "1035    137.0\n",
      "1125    217.5\n",
      "1135    105.0\n",
      "1137    105.0\n",
      "1147    112.0\n",
      "1149     86.8\n",
      "1277     92.0\n",
      "1295    124.8\n",
      "1379    175.0\n",
      "1447    191.3\n",
      "1477     93.0\n",
      "1479    122.0\n",
      "1481    114.0\n",
      "1557    135.0\n",
      "1567    105.6\n",
      "1569    116.4\n",
      "1579    115.0\n",
      "1581    121.0\n",
      "1583     99.0\n",
      "1585    115.0\n",
      "1587    121.0\n",
      "Name: price, dtype: float64\n",
      "32\n"
     ]
    }
   ],
   "source": [
    "    Q1=df_drop['price'].quantile(0.25)\n",
    "    Q3=df_drop['price'].quantile(0.75)\n",
    "    IQR=Q3-Q1\n",
    "    df_final=df_drop['price'][((df_drop['price']<(Q1-1.5*IQR)) | (df_drop['price']>(Q3+1.5*IQR)))]\n",
    "    print(df_final)\n",
    "    print(len(df_final))"
   ]
  },
  {
   "cell_type": "markdown",
   "id": "659b9d0d",
   "metadata": {},
   "source": [
    "### Méthodes K-means cluster"
   ]
  },
  {
   "cell_type": "code",
   "execution_count": 24,
   "id": "eb84b1cd",
   "metadata": {},
   "outputs": [
    {
     "name": "stderr",
     "output_type": "stream",
     "text": [
      "No handles with labels found to put in legend.\n"
     ]
    },
    {
     "data": {
      "text/plain": [
       "<matplotlib.legend.Legend at 0x15740599640>"
      ]
     },
     "execution_count": 24,
     "metadata": {},
     "output_type": "execute_result"
    },
    {
     "data": {
      "image/png": "[encoded data removed]",
      "text/plain": [
       "<Figure size 432x288 with 1 Axes>"
      ]
     },
     "metadata": {},
     "output_type": "display_data"
    }
   ],
   "source": [
    "scaler = MinMaxScaler()\n",
    "scaler.fit(df_drop[['chiffre_affaire']])\n",
    "df_drop['chiffre_affaire'] = scaler.transform(df_drop[['chiffre_affaire']])\n",
    "#wine_profile\n",
    "scaler.fit(df_drop[['price']])\n",
    "df_drop['price'] = scaler.transform(df_drop[['price']])\n",
    "df_drop\n",
    "plt.scatter(df_drop.price,df_drop['chiffre_affaire'])\n",
    "km = KMeans(n_clusters=3)\n",
    "y_predicted = km.fit_predict(df_drop[['price','chiffre_affaire']])\n",
    "y_predicted\n",
    "df_drop['cluster']=y_predicted\n",
    "df_drop.head()\n",
    "km.cluster_centers_\n",
    "df1 = df_drop[df_drop.cluster==0]\n",
    "df2 = df_drop[df_drop.cluster==1]\n",
    "df3 = df_drop[df_drop.cluster==2]\n",
    "plt.scatter(df1.price,df1['chiffre_affaire'],color='green')\n",
    "plt.scatter(df2.price,df2['chiffre_affaire'],color='red')\n",
    "plt.scatter(df3.price,df3['chiffre_affaire'],color='black')\n",
    "plt.xlabel('price')\n",
    "plt.ylabel('chiffre_affaire')\n",
    "plt.legend()"
   ]
  },
  {
   "cell_type": "code",
   "execution_count": null,
   "id": "a7369d56",
   "metadata": {},
   "outputs": [],
   "source": []
  }
 ],
 "metadata": {
  "celltoolbar": "Format de la Cellule Texte Brut",
  "kernelspec": {
   "display_name": "Python 3",
   "language": "python",
   "name": "python3"
  },
  "language_info": {
   "codemirror_mode": {
    "name": "ipython",
    "version": 3
   },
   "file_extension": ".py",
   "mimetype": "text/x-python",
   "name": "python",
   "nbconvert_exporter": "python",
   "pygments_lexer": "ipython3",
   "version": "3.8.8"
  }
 },
 "nbformat": 4,
 "nbformat_minor": 5
}
